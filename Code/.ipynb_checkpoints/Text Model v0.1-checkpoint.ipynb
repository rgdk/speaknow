{
 "cells": [
  {
   "cell_type": "markdown",
   "id": "f1a8d858-5b41-4cbc-88ba-0671f80aabbc",
   "metadata": {},
   "source": [
    "#### Import Libraries"
   ]
  },
  {
   "cell_type": "code",
   "execution_count": 4,
   "id": "8ca851b7-8933-4830-b384-fa80714b3a0f",
   "metadata": {},
   "outputs": [],
   "source": [
    "import pandas as pd\n",
    "import os\n",
    "import numpy as np\n",
    "import pickle"
   ]
  },
  {
   "cell_type": "markdown",
   "id": "76598d1f-d822-4801-bdb9-d5c554ad5188",
   "metadata": {},
   "source": [
    "#### Load the prepared data"
   ]
  },
  {
   "cell_type": "code",
   "execution_count": 6,
   "id": "a08b9852-226f-4b82-949d-460a2c084e64",
   "metadata": {},
   "outputs": [
    {
     "name": "stdout",
     "output_type": "stream",
     "text": [
      "There are 495 records in this data set\n",
      "There are 328 non-null transcriptions in the data set\n"
     ]
    }
   ],
   "source": [
    "data_set_df  = pd.read_csv(\"../Output/full_df_provided_transcripts.csv\")\n",
    "\n",
    "print(f\"There are {len(data_set_df)} records in this data set\")\n",
    "print(f\"There are {len(data_set_df[~data_set_df['transcript'].isna()])} non-null transcriptions in the data set\")"
   ]
  },
  {
   "cell_type": "markdown",
   "id": "20c90513-28de-4451-8baa-5acce16ba95a",
   "metadata": {},
   "source": [
    "#### Extract just the writing-related features"
   ]
  },
  {
   "cell_type": "code",
   "execution_count": 15,
   "id": "e8da393f-db82-411c-b14a-342b0e109f8f",
   "metadata": {},
   "outputs": [],
   "source": [
    "writing_ax_features = data_set_df[~data_set_df['transcript'].isna()][\n",
    "                              ['vocab_avg',\n",
    "                               'cohesion_avg',\n",
    "                               'grammar_avg',\n",
    "                               'cefr_avg',\n",
    "                               'filler_word_count',\n",
    "                               'average_sentence_length',\n",
    "                               'cohesion_score',\n",
    "                               'flesch_kincaid_score',\n",
    "                               'coleman_liau_index',\n",
    "                               'repetitions',\n",
    "                               'brunets_index']]\n",
    "\n",
    "all_features = data_set_df[~data_set_df['transcript'].isna()].drop(['assessment_id', 'transcript', 'suffix'], axis=1)"
   ]
  },
  {
   "cell_type": "code",
   "execution_count": 16,
   "id": "29198be5-4af7-4347-b433-59ddb7039701",
   "metadata": {},
   "outputs": [
    {
     "name": "stdout",
     "output_type": "stream",
     "text": [
      "<class 'pandas.core.frame.DataFrame'>\n",
      "Index: 328 entries, 0 to 469\n",
      "Data columns (total 11 columns):\n",
      " #   Column                   Non-Null Count  Dtype  \n",
      "---  ------                   --------------  -----  \n",
      " 0   vocab_avg                328 non-null    float64\n",
      " 1   cohesion_avg             328 non-null    float64\n",
      " 2   grammar_avg              328 non-null    float64\n",
      " 3   cefr_avg                 328 non-null    float64\n",
      " 4   filler_word_count        328 non-null    int64  \n",
      " 5   average_sentence_length  328 non-null    float64\n",
      " 6   cohesion_score           328 non-null    float64\n",
      " 7   flesch_kincaid_score     328 non-null    float64\n",
      " 8   coleman_liau_index       328 non-null    float64\n",
      " 9   repetitions              328 non-null    int64  \n",
      " 10  brunets_index            328 non-null    float64\n",
      "dtypes: float64(9), int64(2)\n",
      "memory usage: 30.8 KB\n"
     ]
    }
   ],
   "source": [
    "writing_ax_features.info()"
   ]
  },
  {
   "cell_type": "markdown",
   "id": "f794a799-e89b-4969-b557-26c692be9f1b",
   "metadata": {},
   "source": [
    "#### Model 1: SK-Learn RandomForestRegressor (un-tuned)"
   ]
  },
  {
   "cell_type": "code",
   "execution_count": 17,
   "id": "bffdd078-dda3-483e-b0a4-edb1664f4c76",
   "metadata": {},
   "outputs": [
    {
     "name": "stdout",
     "output_type": "stream",
     "text": [
      "Mean Squared Error for each target variable: [0.61488465 0.8797195  0.75245993 0.76618829]\n",
      "Root Mean Squared Error (RMSE): [0.78414581 0.93793363 0.86744448 0.87532182]\n",
      "Mean Absolute Error (MAE): 0.6755905303030304\n",
      "R-squared (R²): 0.2587749689555747\n",
      "vocab_avg - MSE: 0.614884650909091, RMSE: 0.784145809724882, MAE: 0.6244090909090909, R²: 0.22511436176763677\n",
      "cohesion_avg - MSE: 0.8797194957575759, RMSE: 0.937933630785023, MAE: 0.726069696969697, R²: 0.21884402502205202\n",
      "grammar_avg - MSE: 0.7524599262121214, RMSE: 0.8674444801900127, MAE: 0.6988439393939395, R²: 0.27442327446228754\n",
      "cefr_avg - MSE: 0.7661882890909092, RMSE: 0.8753218202986311, MAE: 0.6530393939393939, R²: 0.31671821457032223\n"
     ]
    }
   ],
   "source": [
    "import pandas as pd\n",
    "from sklearn.model_selection import train_test_split\n",
    "from sklearn.preprocessing import StandardScaler\n",
    "from sklearn.ensemble import RandomForestRegressor\n",
    "from sklearn.metrics import mean_squared_error, mean_absolute_error, r2_score\n",
    "\n",
    "# Separate the features and the target variables\n",
    "X = writing_ax_features.drop(columns=['vocab_avg', 'cohesion_avg', 'grammar_avg', 'cefr_avg'])\n",
    "y = writing_ax_features[['vocab_avg', 'cohesion_avg', 'grammar_avg', 'cefr_avg']]\n",
    "\n",
    "# Split the dataset into training and testing sets\n",
    "X_train, X_test, y_train, y_test = train_test_split(X, y, test_size=0.2, random_state=42)\n",
    "\n",
    "# Scale or normalize the features\n",
    "scaler = StandardScaler()\n",
    "X_train_scaled = scaler.fit_transform(X_train)\n",
    "X_test_scaled = scaler.transform(X_test)\n",
    "\n",
    "# Encode categorical variables (if any)\n",
    "# No categorical variables are present in the given dataset\n",
    "\n",
    "# 6. Optionally, perform feature selection or engineering\n",
    "X_train_scaled = pd.DataFrame(X_train_scaled, columns=X_train.columns)  # Convert to DataFrame for easier manipulation\n",
    "X_test_scaled = pd.DataFrame(X_test_scaled, columns=X_test.columns)\n",
    "\n",
    "### Now, train and test the models ###\n",
    "\n",
    "# 7. Initialize the multi-output model\n",
    "rfr_model1 = RandomForestRegressor(n_estimators=100, random_state=42)\n",
    "\n",
    "# 8. Train the model\n",
    "rfr_model1.fit(X_train_scaled, y_train)\n",
    "\n",
    "# 9. Predict on the test set\n",
    "y_pred = rfr_model1.predict(X_test_scaled)\n",
    "\n",
    "# 10. Evaluate the model\n",
    "mse = mean_squared_error(y_test, y_pred, multioutput='raw_values')\n",
    "print(f\"Mean Squared Error for each target variable: {mse}\")\n",
    "\n",
    "# Calculate Root Mean Squared Error\n",
    "rmse = np.sqrt(mse)\n",
    "print(f\"Root Mean Squared Error (RMSE): {rmse}\")\n",
    "\n",
    "# Calculate Mean Absolute Error\n",
    "mae = mean_absolute_error(y_test, y_pred)\n",
    "print(f\"Mean Absolute Error (MAE): {mae}\")\n",
    "\n",
    "# Calculate R-squared\n",
    "r2 = r2_score(y_test, y_pred)\n",
    "print(f\"R-squared (R²): {r2}\")\n",
    "\n",
    "# If you want to calculate these metrics for each target variable individually\n",
    "for i, col in enumerate(y_test.columns):\n",
    "    mse_col = mean_squared_error(y_test[col], y_pred[:, i])\n",
    "    rmse_col = np.sqrt(mse_col)\n",
    "    mae_col = mean_absolute_error(y_test[col], y_pred[:, i])\n",
    "    r2_col = r2_score(y_test[col], y_pred[:, i])\n",
    "    print(f\"{col} - MSE: {mse_col}, RMSE: {rmse_col}, MAE: {mae_col}, R²: {r2_col}\")\n",
    "\n"
   ]
  },
  {
   "cell_type": "markdown",
   "id": "2091acec-4bf0-481b-b300-1003033d8884",
   "metadata": {},
   "source": [
    "#### Model 2: SK-Learn RandomForestRegressor (tuned)"
   ]
  },
  {
   "cell_type": "code",
   "execution_count": 30,
   "id": "3d740caa-d597-42d9-941e-6d4d5793956f",
   "metadata": {},
   "outputs": [
    {
     "name": "stdout",
     "output_type": "stream",
     "text": [
      "Fitting 5 folds for each of 72 candidates, totalling 360 fits\n",
      "Best parameters: {'max_depth': 4, 'max_leaf_nodes': None, 'min_samples_leaf': 3, 'min_samples_split': 2, 'n_estimators': 77}\n",
      "Mean Squared Error for each target variable: [0.59772506 0.84839208 0.73603519 0.74130937]\n",
      "Root Mean Squared Error (RMSE): [0.77312681 0.92108202 0.85792494 0.86099324]\n",
      "Mean Absolute Error (MAE): 0.6645725642368275\n",
      "R-squared (R²): 0.2806417258988112\n",
      "vocab_avg - MSE: 0.5977250593236126, RMSE: 0.7731268067552778, MAE: 0.6218881420899588, R²: 0.2467391023720107\n",
      "cohesion_avg - MSE: 0.8483920800256217, RMSE: 0.9210820159060873, MAE: 0.6921978632568451, R²: 0.246661526052378\n",
      "grammar_avg - MSE: 0.7360351945989018, RMSE: 0.857924935293818, MAE: 0.6941601763624228, R²: 0.2902611982727259\n",
      "cefr_avg - MSE: 0.7413093673199326, RMSE: 0.8609932446424493, MAE: 0.6500440752380838, R²: 0.33890507689812954\n"
     ]
    }
   ],
   "source": [
    "import pandas as pd\n",
    "from sklearn.model_selection import train_test_split, GridSearchCV\n",
    "from sklearn.preprocessing import StandardScaler\n",
    "from sklearn.ensemble import RandomForestRegressor\n",
    "from sklearn.metrics import mean_squared_error, mean_absolute_error, r2_score\n",
    "\n",
    "X = writing_ax_features.drop(columns=['vocab_avg', 'cohesion_avg', 'grammar_avg', 'cefr_avg'])\n",
    "y = writing_ax_features[['vocab_avg', 'cohesion_avg', 'grammar_avg', 'cefr_avg']]\n",
    "\n",
    "# Split the dataset into training and testing sets\n",
    "X_train, X_test, y_train, y_test = train_test_split(X, y, test_size=0.2, random_state=42)\n",
    "\n",
    "# Scale or normalize the features\n",
    "scaler = StandardScaler()\n",
    "X_train_scaled = scaler.fit_transform(X_train)\n",
    "X_test_scaled = scaler.transform(X_test)\n",
    "\n",
    "# Optionally, perform feature selection or engineering\n",
    "X_train_scaled = pd.DataFrame(X_train_scaled, columns=X_train.columns)  # Convert to DataFrame for easier manipulation\n",
    "X_test_scaled = pd.DataFrame(X_test_scaled, columns=X_test.columns)\n",
    "\n",
    "### Now, train and test the models ###\n",
    "\n",
    "# Initialize the multi-output model\n",
    "rfr_model2 = RandomForestRegressor(n_estimators=100, random_state=42)\n",
    "\n",
    "# Define the parameter grid\n",
    "param_grid = {\n",
    "    'n_estimators': [77, 80, 83],  # Number of trees in the forest\n",
    "    'max_depth': [3, 4, 5],  # Maximum depth of the tree\n",
    "    'min_samples_split': [2, 3],  # Minimum number of samples required to split an internal node\n",
    "    'min_samples_leaf': [2, 3],  # Minimum number of samples required to be at a leaf node\n",
    "    'max_leaf_nodes': [None, 2]\n",
    "}\n",
    "\n",
    "# Setup GridSearchCV\n",
    "grid_search = GridSearchCV(estimator=rfr_model2, param_grid=param_grid, cv=5, n_jobs=-1, verbose=2, scoring='neg_mean_squared_error')\n",
    "\n",
    "# Fit the model\n",
    "grid_search.fit(X_train_scaled, y_train)\n",
    "\n",
    "# Best parameters and model\n",
    "print(\"Best parameters:\", grid_search.best_params_)\n",
    "best_rfr_model = grid_search.best_estimator_\n",
    "\n",
    "# Predict on the test set using the best model\n",
    "y_pred = best_rfr_model.predict(X_test_scaled)\n",
    "\n",
    "# Evaluate the model\n",
    "mse = mean_squared_error(y_test, y_pred, multioutput='raw_values')\n",
    "print(f\"Mean Squared Error for each target variable: {mse}\")\n",
    "\n",
    "# Calculate Root Mean Squared Error\n",
    "rmse = np.sqrt(mse)\n",
    "print(f\"Root Mean Squared Error (RMSE): {rmse}\")\n",
    "\n",
    "# Calculate Mean Absolute Error\n",
    "mae = mean_absolute_error(y_test, y_pred)\n",
    "print(f\"Mean Absolute Error (MAE): {mae}\")\n",
    "\n",
    "# Calculate R-squared\n",
    "r2 = r2_score(y_test, y_pred)\n",
    "print(f\"R-squared (R²): {r2}\")\n",
    "\n",
    "# If you want to calculate these metrics for each target variable individually\n",
    "for i, col in enumerate(y_test.columns):\n",
    "    mse_col = mean_squared_error(y_test[col], y_pred[:, i])\n",
    "    rmse_col = np.sqrt(mse_col)\n",
    "    mae_col = mean_absolute_error(y_test[col], y_pred[:, i])\n",
    "    r2_col = r2_score(y_test[col], y_pred[:, i])\n",
    "    print(f\"{col} - MSE: {mse_col}, RMSE: {rmse_col}, MAE: {mae_col}, R²: {r2_col}\")"
   ]
  },
  {
   "cell_type": "code",
   "execution_count": 23,
   "id": "9efe0389-916b-45b6-b8bd-75bf82673288",
   "metadata": {},
   "outputs": [
    {
     "data": {
      "image/png": "[encoded data removed]",
      "text/plain": [
       "<Figure size 1000x600 with 1 Axes>"
      ]
     },
     "metadata": {},
     "output_type": "display_data"
    }
   ],
   "source": [
    "from matplotlib import pyplot as plt\n",
    "\n",
    "# Get feature importances\n",
    "feature_importances = best_rfr_model.feature_importances_\n",
    "\n",
    "# Get the feature names\n",
    "feature_names = X_train.columns\n",
    "\n",
    "# Create a pandas series to hold the importances and names\n",
    "importances = pd.Series(data=feature_importances, index=feature_names)\n",
    "\n",
    "# Sort the feature importances in descending order\n",
    "importances_sorted = importances.sort_values(ascending=True)\n",
    "\n",
    "# Plot the feature importances\n",
    "plt.figure(figsize=(10, 6))\n",
    "importances_sorted.plot(kind='barh')\n",
    "plt.title('Feature Importance')\n",
    "plt.ylabel('Features')\n",
    "plt.xlabel('Importance')\n",
    "plt.show()"
   ]
  },
  {
   "cell_type": "markdown",
   "id": "5940c0a9-5096-41dd-a933-f407ce0710cb",
   "metadata": {},
   "source": [
    "#### Extract the model to file"
   ]
  },
  {
   "cell_type": "code",
   "execution_count": 31,
   "id": "b126e36d-38ca-4366-847b-d463ea6496ed",
   "metadata": {},
   "outputs": [],
   "source": [
    "import pickle\n",
    "\n",
    "with open('./Models/generated/random_forest_regressor_text_model.pkl', 'wb') as f:\n",
    "    pickle.dump(best_rfr_model, f)"
   ]
  },
  {
   "cell_type": "markdown",
   "id": "f7e9ed35-c059-4d10-9db4-0cdb041807e5",
   "metadata": {},
   "source": [
    "#### Model 3: SK-Learn GradientBoostingRegressor (tuned)"
   ]
  },
  {
   "cell_type": "code",
   "execution_count": 26,
   "id": "70c88778-64cf-418b-9420-ea2da7d57112",
   "metadata": {},
   "outputs": [
    {
     "name": "stdout",
     "output_type": "stream",
     "text": [
      "Fitting 5 folds for each of 324 candidates, totalling 1620 fits\n",
      "Best parameters: {'learning_rate': 0.01, 'max_depth': 6, 'max_features': 'sqrt', 'min_samples_leaf': 3, 'min_samples_split': 2, 'n_estimators': 225}\n",
      "\n",
      "Model evaluation for 'cefr_avg' with tuned hyperparameters:\n",
      "MSE: 0.8138602944930132\n",
      "RMSE: 0.9021420589314153\n",
      "MAE: 0.6875259072964369\n",
      "R²: 0.2742046269444769\n"
     ]
    }
   ],
   "source": [
    "from sklearn.model_selection import train_test_split, GridSearchCV\n",
    "from sklearn.preprocessing import StandardScaler\n",
    "from sklearn.ensemble import GradientBoostingRegressor\n",
    "from sklearn.metrics import mean_squared_error, mean_absolute_error, r2_score\n",
    "import pandas as pd\n",
    "\n",
    "# Preprocessing\n",
    "X = writing_ax_features.drop(columns=['vocab_avg', 'cohesion_avg', 'grammar_avg', 'cefr_avg'])\n",
    "y = writing_ax_features['cefr_avg']  # Target variable\n",
    "\n",
    "# Split the dataset\n",
    "X_train, X_test, y_train, y_test = train_test_split(X, y, test_size=0.2, random_state=42)\n",
    "\n",
    "# Scale features\n",
    "scaler = StandardScaler()\n",
    "X_train_scaled = scaler.fit_transform(X_train)\n",
    "X_test_scaled = scaler.transform(X_test)\n",
    "\n",
    "# Initialize GradientBoostingRegressor\n",
    "gbr_model1 = GradientBoostingRegressor(random_state=42)\n",
    "\n",
    "# Define the parameter grid\n",
    "param_grid = {\n",
    "    'n_estimators': [225, 250, 275],  # Number of boosting stages to be run\n",
    "    'learning_rate': [0.005, 0.01, 0.015],  # Learning rate shrinks the contribution of each tree\n",
    "    'max_depth': [5, 6, 7],  # Maximum depth of the individual regression estimators\n",
    "    'min_samples_split': [2, 3],  # Minimum number of samples required to split an internal node\n",
    "    'min_samples_leaf': [2, 3],  # Minimum number of samples required to be at a leaf node\n",
    "    'max_features': ['sqrt', 'log2', None]  # The number of features to consider when looking for the best split\n",
    "}\n",
    "\n",
    "# Setup GridSearchCV\n",
    "grid_search = GridSearchCV(estimator=gbr_model1, param_grid=param_grid, cv=5, n_jobs=-1, verbose=2, scoring='neg_mean_squared_error')\n",
    "\n",
    "# Fit the model\n",
    "grid_search.fit(X_train_scaled, y_train)\n",
    "\n",
    "# Best parameters and model\n",
    "print(\"Best parameters:\", grid_search.best_params_)\n",
    "best_gbr_model1 = grid_search.best_estimator_\n",
    "\n",
    "# Predict on the test set using the best model\n",
    "y_pred = best_gbr_model1.predict(X_test_scaled)\n",
    "\n",
    "# Evaluate the model\n",
    "mse = mean_squared_error(y_test, y_pred)\n",
    "rmse = mse ** 0.5\n",
    "mae = mean_absolute_error(y_test, y_pred)\n",
    "r2 = r2_score(y_test, y_pred)\n",
    "\n",
    "print(f\"\\nModel evaluation for 'cefr_avg' with tuned hyperparameters:\\nMSE: {mse}\\nRMSE: {rmse}\\nMAE: {mae}\\nR²: {r2}\")\n"
   ]
  },
  {
   "cell_type": "code",
   "execution_count": 27,
   "id": "0acdf6c0-3725-46b7-bfb8-db06a470e8ad",
   "metadata": {},
   "outputs": [
    {
     "data": {
      "image/png": "[encoded data removed]",
      "text/plain": [
       "<Figure size 1000x600 with 1 Axes>"
      ]
     },
     "metadata": {},
     "output_type": "display_data"
    }
   ],
   "source": [
    "from matplotlib import pyplot as plt\n",
    "\n",
    "# Get feature importances\n",
    "feature_importances = best_gbr_model1.feature_importances_\n",
    "\n",
    "# Get the feature names\n",
    "feature_names = X_train.columns\n",
    "\n",
    "# Create a pandas series to hold the importances and names\n",
    "importances = pd.Series(data=feature_importances, index=feature_names)\n",
    "\n",
    "# Sort the feature importances in descending order\n",
    "importances_sorted = importances.sort_values(ascending=True)\n",
    "\n",
    "# Plot the feature importances\n",
    "plt.figure(figsize=(10, 6))\n",
    "importances_sorted.plot(kind='barh')\n",
    "plt.title('Feature Importance')\n",
    "plt.ylabel('Features')\n",
    "plt.xlabel('Importance')\n",
    "plt.show()"
   ]
  },
  {
   "cell_type": "markdown",
   "id": "8ca31d22-b18a-4ea3-b555-b0420ac2e6a0",
   "metadata": {},
   "source": [
    "#### Model 4: xgboost (tuned)"
   ]
  },
  {
   "cell_type": "code",
   "execution_count": 29,
   "id": "96e6ff6e-a6f7-4586-a857-94d6b6c31eb3",
   "metadata": {},
   "outputs": [
    {
     "name": "stdout",
     "output_type": "stream",
     "text": [
      "Fitting 5 folds for each of 486 candidates, totalling 2430 fits\n",
      "Best parameters: {'colsample_bytree': 0.6, 'learning_rate': 0.015, 'max_depth': 4, 'min_child_weight': 1, 'n_estimators': 225, 'subsample': 0.97}\n",
      "\n",
      "Model evaluation for 'cefr_avg' with tuned hyperparameters:\n",
      "MSE: 0.8363947453908142\n",
      "RMSE: 0.9145461964224739\n",
      "MAE: 0.7044790145845123\n",
      "R²: 0.25410854865359633\n"
     ]
    }
   ],
   "source": [
    "import xgboost as xgb\n",
    "from sklearn.model_selection import train_test_split, GridSearchCV\n",
    "from sklearn.preprocessing import StandardScaler\n",
    "from sklearn.metrics import mean_squared_error, mean_absolute_error, r2_score\n",
    "import pandas as pd\n",
    "\n",
    "X = writing_ax_features.drop(columns=['vocab_avg', 'cohesion_avg', 'grammar_avg', 'cefr_avg'])\n",
    "y = writing_ax_features['cefr_avg']  # Target variable\n",
    "\n",
    "\n",
    "# Split the dataset\n",
    "X_train, X_test, y_train, y_test = train_test_split(X, y, test_size=0.2, random_state=42)\n",
    "\n",
    "# Scale features\n",
    "scaler = StandardScaler()\n",
    "X_train_scaled = scaler.fit_transform(X_train)\n",
    "X_test_scaled = scaler.transform(X_test)\n",
    "\n",
    "# Initialize XGBRegressor\n",
    "xgb_model1 = xgb.XGBRegressor(objective ='reg:squarederror', random_state=42)\n",
    "\n",
    "# Define the parameter grid\n",
    "param_grid = {\n",
    "    'n_estimators': [75, 150, 225],\n",
    "    'learning_rate': [0.01, 0.015, 0.025],\n",
    "    'max_depth': [4, 5, 6], \n",
    "    'min_child_weight': [1, 2],  # Minimum sum of instance weight (hessian) needed in a child\n",
    "    'subsample': [0.95, 0.96, 0.97],  # Subsample ratio of the training instances\n",
    "    'colsample_bytree': [0.4, 0.5, 0.6]  # Subsample ratio of columns when constructing each tree\n",
    "    # 'gamma': [0,0.2, 0.4],\n",
    "    # 'reg_alpha': [0,  0.005, 0.05],\n",
    "    # 'reg_lambda': [0.5, 0.1, 0.05]\n",
    "}\n",
    "\n",
    "# Setup GridSearchCV\n",
    "grid_search = GridSearchCV(estimator=xgb_model1, param_grid=param_grid, cv=5, n_jobs=-1, verbose=2, scoring='neg_mean_squared_error')\n",
    "\n",
    "# Fit the model\n",
    "grid_search.fit(X_train_scaled, y_train)\n",
    "\n",
    "# Best parameters and model\n",
    "print(\"Best parameters:\", grid_search.best_params_)\n",
    "best_model = grid_search.best_estimator_\n",
    "\n",
    "# Predict on the test set using the best model\n",
    "y_pred = best_model.predict(X_test_scaled)\n",
    "\n",
    "# y_pred = model.predict(X_test_scaled)\n",
    "# Evaluate the model\n",
    "mse = mean_squared_error(y_test, y_pred)\n",
    "rmse = mse ** 0.5\n",
    "mae = mean_absolute_error(y_test, y_pred)\n",
    "r2 = r2_score(y_test, y_pred)\n",
    "\n",
    "print(f\"\\nModel evaluation for 'cefr_avg' with tuned hyperparameters:\\nMSE: {mse}\\nRMSE: {rmse}\\nMAE: {mae}\\nR²: {r2}\")\n"
   ]
  },
  {
   "cell_type": "code",
   "execution_count": null,
   "id": "5c9cd2b2-9a86-4691-ab7b-38afe3fc9047",
   "metadata": {},
   "outputs": [],
   "source": []
  }
 ],
 "metadata": {
  "kernelspec": {
   "display_name": "Python 3 (ipykernel)",
   "language": "python",
   "name": "python3"
  },
  "language_info": {
   "codemirror_mode": {
    "name": "ipython",
    "version": 3
   },
   "file_extension": ".py",
   "mimetype": "text/x-python",
   "name": "python",
   "nbconvert_exporter": "python",
   "pygments_lexer": "ipython3",
   "version": "3.9.18"
  }
 },
 "nbformat": 4,
 "nbformat_minor": 5
}
